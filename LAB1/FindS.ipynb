{
 "cells": [
  {
   "cell_type": "code",
   "execution_count": 7,
   "metadata": {},
   "outputs": [
    {
     "name": "stdout",
     "output_type": "stream",
     "text": [
      "      time weather temperature company humidity    wind goes\n",
      "0  morning   sunny        warm     yes     mild  strong  yes\n",
      "1  evening   rainy        cold      no     mild  normal   no\n",
      "2  morning   sunny    moderate     yes   normal  normal  yes\n",
      "3  evening   sunny        cold     yes     high  strong  yes\n",
      "['?' 'sunny' '?' 'yes' '?' '?']\n"
     ]
    }
   ],
   "source": [
    "import pandas as pd\n",
    "import numpy as np\n",
    "data = pd.read_csv(\"data.csv\")\n",
    "print(data)\n",
    "d = np.array(data)[:,:-1]\n",
    "target = np.array(data)[:,-1]\n",
    "def train(c,t):\n",
    "    for i, val in enumerate(t):\n",
    "        if val == \"yes\":\n",
    "            sh = c[i].copy()\n",
    "            break;\n",
    "    for i, val in enumerate(c):\n",
    "        if t[i] == \"yes\":\n",
    "            for x in range(len(sh)):\n",
    "                if val[x] != sh[x]:\n",
    "                    sh[x] = \"?\"\n",
    "                else:\n",
    "                    pass\n",
    "    return sh\n",
    "\n",
    "print(train(d,target))\n",
    "    "
   ]
  },
  {
   "cell_type": "code",
   "execution_count": null,
   "metadata": {},
   "outputs": [],
   "source": []
  },
  {
   "cell_type": "code",
   "execution_count": null,
   "metadata": {},
   "outputs": [],
   "source": []
  }
 ],
 "metadata": {
  "kernelspec": {
   "display_name": "Python 3",
   "language": "python",
   "name": "python3"
  },
  "language_info": {
   "codemirror_mode": {
    "name": "ipython",
    "version": 3
   },
   "file_extension": ".py",
   "mimetype": "text/x-python",
   "name": "python",
   "nbconvert_exporter": "python",
   "pygments_lexer": "ipython3",
   "version": "3.7.3"
  }
 },
 "nbformat": 4,
 "nbformat_minor": 2
}
