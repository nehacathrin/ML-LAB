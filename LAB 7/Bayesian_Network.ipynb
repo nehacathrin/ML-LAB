{
 "cells": [
  {
   "cell_type": "code",
   "execution_count": 1,
   "id": "229b54f3",
   "metadata": {},
   "outputs": [
    {
     "name": "stdout",
     "output_type": "stream",
     "text": [
      "Requirement already satisfied: pgmpy in c:\\programdata\\anaconda3\\lib\\site-packages (0.1.18)\n",
      "Requirement already satisfied: pyparsing in c:\\programdata\\anaconda3\\lib\\site-packages (from pgmpy) (3.0.4)\n",
      "Requirement already satisfied: statsmodels in c:\\programdata\\anaconda3\\lib\\site-packages (from pgmpy) (0.12.2)\n",
      "Requirement already satisfied: scikit-learn in c:\\programdata\\anaconda3\\lib\\site-packages (from pgmpy) (0.24.2)\n",
      "Requirement already satisfied: torch in c:\\programdata\\anaconda3\\lib\\site-packages (from pgmpy) (1.11.0)\n",
      "Requirement already satisfied: tqdm in c:\\programdata\\anaconda3\\lib\\site-packages (from pgmpy) (4.62.3)\n",
      "Requirement already satisfied: joblib in c:\\programdata\\anaconda3\\lib\\site-packages (from pgmpy) (1.1.0)\n",
      "Requirement already satisfied: pandas in c:\\programdata\\anaconda3\\lib\\site-packages (from pgmpy) (1.3.4)\n",
      "Requirement already satisfied: networkx in c:\\programdata\\anaconda3\\lib\\site-packages (from pgmpy) (2.6.3)\n",
      "Requirement already satisfied: numpy in c:\\programdata\\anaconda3\\lib\\site-packages (from pgmpy) (1.20.3)\n",
      "Requirement already satisfied: scipy in c:\\programdata\\anaconda3\\lib\\site-packages (from pgmpy) (1.7.1)\n",
      "Requirement already satisfied: python-dateutil>=2.7.3 in c:\\programdata\\anaconda3\\lib\\site-packages (from pandas->pgmpy) (2.8.2)\n",
      "Requirement already satisfied: pytz>=2017.3 in c:\\programdata\\anaconda3\\lib\\site-packages (from pandas->pgmpy) (2021.3)\n",
      "Requirement already satisfied: six>=1.5 in c:\\programdata\\anaconda3\\lib\\site-packages (from python-dateutil>=2.7.3->pandas->pgmpy) (1.16.0)\n",
      "Requirement already satisfied: threadpoolctl>=2.0.0 in c:\\programdata\\anaconda3\\lib\\site-packages (from scikit-learn->pgmpy) (2.2.0)\n",
      "Requirement already satisfied: patsy>=0.5 in c:\\programdata\\anaconda3\\lib\\site-packages (from statsmodels->pgmpy) (0.5.2)\n",
      "Requirement already satisfied: typing-extensions in c:\\programdata\\anaconda3\\lib\\site-packages (from torch->pgmpy) (3.10.0.2)\n",
      "Requirement already satisfied: colorama in c:\\programdata\\anaconda3\\lib\\site-packages (from tqdm->pgmpy) (0.4.4)\n"
     ]
    }
   ],
   "source": [
    "!pip install pgmpy"
   ]
  },
  {
   "cell_type": "code",
   "execution_count": 4,
   "id": "c1fb99bf",
   "metadata": {},
   "outputs": [],
   "source": [
    "from pgmpy.models import BayesianModel\n",
    "from pgmpy.models import BayesianNetwork\n",
    "from pgmpy.factors.discrete import TabularCPD\n",
    "from pgmpy.inference import VariableElimination"
   ]
  },
  {
   "cell_type": "code",
   "execution_count": 5,
   "id": "066d011b",
   "metadata": {},
   "outputs": [
    {
     "name": "stdout",
     "output_type": "stream",
     "text": [
      "Bayesian network nodes:\n",
      "\t ['Pollution', 'Cancer', 'Smoker', 'Xray', 'Dyspnoea']\n",
      "Bayesian network edges:\n",
      "\t [('Pollution', 'Cancer'), ('Cancer', 'Xray'), ('Cancer', 'Dyspnoea'), ('Smoker', 'Cancer')]\n"
     ]
    }
   ],
   "source": [
    "cancer_model = BayesianNetwork([('Pollution', 'Cancer'), \n",
    "                              ('Smoker', 'Cancer'),\n",
    "                              ('Cancer', 'Xray'),\n",
    "                              ('Cancer', 'Dyspnoea')])\n",
    "print('Bayesian network nodes:')\n",
    "print('\\t', cancer_model.nodes())\n",
    "print('Bayesian network edges:')\n",
    "print('\\t', cancer_model.edges())"
   ]
  },
  {
   "cell_type": "code",
   "execution_count": 6,
   "id": "a12ba2f2",
   "metadata": {},
   "outputs": [
    {
     "name": "stdout",
     "output_type": "stream",
     "text": [
      "Model generated bt adding conditional probability distribution(cpds)\n",
      "Checking for Correctness of model:True\n"
     ]
    }
   ],
   "source": [
    "cpd_poll = TabularCPD(variable='Pollution', variable_card=2,\n",
    "                      values=[[0.9], [0.1]])\n",
    "cpd_smoke = TabularCPD(variable='Smoker', variable_card=2,\n",
    "                       values=[[0.3], [0.7]])\n",
    "cpd_cancer = TabularCPD(variable='Cancer', variable_card=2,\n",
    "                        values=[[0.03, 0.05, 0.001, 0.02],\n",
    "                                [0.97, 0.95, 0.999, 0.98]],\n",
    "                        evidence=['Smoker', 'Pollution'],\n",
    "                        evidence_card=[2, 2])\n",
    "cpd_xray = TabularCPD(variable='Xray', variable_card=2,\n",
    "                      values=[[0.9, 0.2], [0.1, 0.8]],\n",
    "                      evidence=['Cancer'], evidence_card=[2])\n",
    "cpd_dysp = TabularCPD(variable='Dyspnoea', variable_card=2,\n",
    "                      values=[[0.65, 0.3], [0.35, 0.7]],\n",
    "                      evidence=['Cancer'], evidence_card=[2])\n",
    "cancer_model.add_cpds(cpd_poll, cpd_smoke, cpd_cancer, cpd_xray, cpd_dysp)\n",
    "print('Model generated bt adding conditional probability distribution(cpds)')\n",
    "\n",
    "# Checking if the cpds are valid for the model.\n",
    "print('Checking for Correctness of model:', end='')\n",
    "print(cancer_model.check_model())"
   ]
  },
  {
   "cell_type": "code",
   "execution_count": 7,
   "id": "570f1e62",
   "metadata": {},
   "outputs": [
    {
     "name": "stdout",
     "output_type": "stream",
     "text": [
      "Displaying CPDs\n",
      "+--------------+-----+\n",
      "| Pollution(0) | 0.9 |\n",
      "+--------------+-----+\n",
      "| Pollution(1) | 0.1 |\n",
      "+--------------+-----+\n",
      "+-----------+-----+\n",
      "| Smoker(0) | 0.3 |\n",
      "+-----------+-----+\n",
      "| Smoker(1) | 0.7 |\n",
      "+-----------+-----+\n",
      "+-----------+--------------+--------------+--------------+--------------+\n",
      "| Smoker    | Smoker(0)    | Smoker(0)    | Smoker(1)    | Smoker(1)    |\n",
      "+-----------+--------------+--------------+--------------+--------------+\n",
      "| Pollution | Pollution(0) | Pollution(1) | Pollution(0) | Pollution(1) |\n",
      "+-----------+--------------+--------------+--------------+--------------+\n",
      "| Cancer(0) | 0.03         | 0.05         | 0.001        | 0.02         |\n",
      "+-----------+--------------+--------------+--------------+--------------+\n",
      "| Cancer(1) | 0.97         | 0.95         | 0.999        | 0.98         |\n",
      "+-----------+--------------+--------------+--------------+--------------+\n",
      "+---------+-----------+-----------+\n",
      "| Cancer  | Cancer(0) | Cancer(1) |\n",
      "+---------+-----------+-----------+\n",
      "| Xray(0) | 0.9       | 0.2       |\n",
      "+---------+-----------+-----------+\n",
      "| Xray(1) | 0.1       | 0.8       |\n",
      "+---------+-----------+-----------+\n",
      "+-------------+-----------+-----------+\n",
      "| Cancer      | Cancer(0) | Cancer(1) |\n",
      "+-------------+-----------+-----------+\n",
      "| Dyspnoea(0) | 0.65      | 0.3       |\n",
      "+-------------+-----------+-----------+\n",
      "| Dyspnoea(1) | 0.35      | 0.7       |\n",
      "+-------------+-----------+-----------+\n"
     ]
    }
   ],
   "source": [
    "'''print('All local dependencies are as follows')\n",
    "cancer_model.get_independencies()\n",
    "'''\n",
    "\n",
    "print('Displaying CPDs')\n",
    "print(cancer_model.get_cpds('Pollution'))\n",
    "print(cancer_model.get_cpds('Smoker'))\n",
    "print(cancer_model.get_cpds('Cancer'))\n",
    "print(cancer_model.get_cpds('Xray'))\n",
    "print(cancer_model.get_cpds('Dyspnoea'))"
   ]
  },
  {
   "cell_type": "code",
   "execution_count": 8,
   "id": "3b5517d1",
   "metadata": {},
   "outputs": [
    {
     "name": "stdout",
     "output_type": "stream",
     "text": [
      "\n",
      "Inferencing with Bayesian Network\n",
      "\n",
      "Probability of Cancer given Smoker\n"
     ]
    },
    {
     "data": {
      "application/vnd.jupyter.widget-view+json": {
       "model_id": "761985249aad499db9682e918d75614b",
       "version_major": 2,
       "version_minor": 0
      },
      "text/plain": [
       "  0%|          | 0/1 [00:00<?, ?it/s]"
      ]
     },
     "metadata": {},
     "output_type": "display_data"
    },
    {
     "data": {
      "application/vnd.jupyter.widget-view+json": {
       "model_id": "03db074f2af04bfcb65649b4ef7c14b2",
       "version_major": 2,
       "version_minor": 0
      },
      "text/plain": [
       "  0%|          | 0/1 [00:00<?, ?it/s]"
      ]
     },
     "metadata": {},
     "output_type": "display_data"
    },
    {
     "name": "stdout",
     "output_type": "stream",
     "text": [
      "+-----------+---------------+\n",
      "| Cancer    |   phi(Cancer) |\n",
      "+===========+===============+\n",
      "| Cancer(0) |        0.0029 |\n",
      "+-----------+---------------+\n",
      "| Cancer(1) |        0.9971 |\n",
      "+-----------+---------------+\n",
      "\n",
      "Probability of Cancer given Smoker, Pollution\n"
     ]
    },
    {
     "data": {
      "application/vnd.jupyter.widget-view+json": {
       "model_id": "be58e2d4c2124097b4b3b729b72f2bb1",
       "version_major": 2,
       "version_minor": 0
      },
      "text/plain": [
       "0it [00:00, ?it/s]"
      ]
     },
     "metadata": {},
     "output_type": "display_data"
    },
    {
     "data": {
      "application/vnd.jupyter.widget-view+json": {
       "model_id": "2853de1e693f4e3ea86a121d82aaa70f",
       "version_major": 2,
       "version_minor": 0
      },
      "text/plain": [
       "0it [00:00, ?it/s]"
      ]
     },
     "metadata": {},
     "output_type": "display_data"
    },
    {
     "name": "stdout",
     "output_type": "stream",
     "text": [
      "+-----------+---------------+\n",
      "| Cancer    |   phi(Cancer) |\n",
      "+===========+===============+\n",
      "| Cancer(0) |        0.0200 |\n",
      "+-----------+---------------+\n",
      "| Cancer(1) |        0.9800 |\n",
      "+-----------+---------------+\n"
     ]
    }
   ],
   "source": [
    "cancer_infer = VariableElimination(cancer_model)\n",
    "print('\\nInferencing with Bayesian Network')\n",
    "\n",
    "print('\\nProbability of Cancer given Smoker')\n",
    "q = cancer_infer.query(variables=['Cancer'], evidence={'Smoker': 1})\n",
    "print(q)\n",
    "\n",
    "print('\\nProbability of Cancer given Smoker, Pollution')\n",
    "q = cancer_infer.query(variables=['Cancer'], evidence={'Smoker': 1,'Pollution': 1})\n",
    "print(q)"
   ]
  },
  {
   "cell_type": "code",
   "execution_count": null,
   "id": "6145ebb2",
   "metadata": {},
   "outputs": [],
   "source": []
  }
 ],
 "metadata": {
  "kernelspec": {
   "display_name": "Python 3 (ipykernel)",
   "language": "python",
   "name": "python3"
  },
  "language_info": {
   "codemirror_mode": {
    "name": "ipython",
    "version": 3
   },
   "file_extension": ".py",
   "mimetype": "text/x-python",
   "name": "python",
   "nbconvert_exporter": "python",
   "pygments_lexer": "ipython3",
   "version": "3.9.7"
  }
 },
 "nbformat": 4,
 "nbformat_minor": 5
}
